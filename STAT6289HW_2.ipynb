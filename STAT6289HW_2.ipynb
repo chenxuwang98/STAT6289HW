{
 "cells": [
  {
   "cell_type": "code",
   "execution_count": 5,
   "metadata": {},
   "outputs": [],
   "source": [
    "import torch\n",
    "import torch.nn as nn\n",
    "import numpy as np\n",
    "import torchvision\n",
    "import matplotlib.pyplot as plt\n",
    "import torchvision.transforms as transforms\n",
    "import os\n",
    "import numpy as np\n",
    "import torch.utils.data as Data\n",
    "from torch.autograd import Variable\n",
    "import torch.nn.functional as F"
   ]
  },
  {
   "cell_type": "code",
   "execution_count": 6,
   "metadata": {},
   "outputs": [
    {
     "name": "stdout",
     "output_type": "stream",
     "text": [
      "Files already downloaded and verified\n",
      "Files already downloaded and verified\n"
     ]
    }
   ],
   "source": [
    "transform = transforms.Compose(\n",
    "    [transforms.ToTensor(),\n",
    "     transforms.Normalize((0.5, 0.5, 0.5), (0.5, 0.5, 0.5))])\n",
    "\n",
    "batch_size=4\n",
    "\n",
    "trainset = torchvision.datasets.CIFAR10(root='./data', train=True,\n",
    "                                        download=True, transform=transform)\n",
    "trainloader = torch.utils.data.DataLoader(trainset, batch_size=batch_size,\n",
    "                                          shuffle=True, num_workers=2)\n",
    "\n",
    "testset = torchvision.datasets.CIFAR10(root='./data', train=False,\n",
    "                                       download=True, transform=transform)\n",
    "testloader = torch.utils.data.DataLoader(testset, batch_size=batch_size,\n",
    "                                         shuffle=False, num_workers=2)\n"
   ]
  },
  {
   "cell_type": "code",
   "execution_count": 7,
   "metadata": {},
   "outputs": [
    {
     "data": {
      "text/plain": [
       "torch.Size([3, 32, 32, 50000])"
      ]
     },
     "execution_count": 7,
     "metadata": {},
     "output_type": "execute_result"
    }
   ],
   "source": [
    "imgs = torch.stack([img_t for img_t ,_ in trainset],dim=3)\n",
    "imgs.shape"
   ]
  },
  {
   "cell_type": "code",
   "execution_count": 8,
   "metadata": {},
   "outputs": [],
   "source": [
    "import torch.nn as nn\n",
    "import torch.nn.functional as F\n",
    "\n",
    "\n",
    "class Net(nn.Module):\n",
    "    def __init__(self):\n",
    "        super().__init__()\n",
    "        self.conv1 = nn.Conv2d(3, 6, 5)\n",
    "        self.pool = nn.MaxPool2d(2, 2)\n",
    "        self.conv2 = nn.Conv2d(6, 16, 5)\n",
    "        self.fc1 = nn.Linear(16 * 5 * 5, 120)\n",
    "        self.fc2 = nn.Linear(120, 84)\n",
    "        self.fc3 = nn.Linear(84, 10)\n",
    "\n",
    "    def forward(self, x):\n",
    "        x = self.pool(F.relu(self.conv1(x)))\n",
    "        x = self.pool(F.relu(self.conv2(x)))\n",
    "        x = torch.flatten(x, 1) # flatten all dimensions except batch\n",
    "        x = F.relu(self.fc1(x))\n",
    "        x = F.relu(self.fc2(x))\n",
    "        x = self.fc3(x)\n",
    "        return x\n",
    "\n",
    "\n",
    "net = Net()"
   ]
  },
  {
   "cell_type": "code",
   "execution_count": 9,
   "metadata": {},
   "outputs": [],
   "source": [
    "import torch.optim as optim\n",
    "\n",
    "criterion = nn.CrossEntropyLoss()\n",
    "optimizer = optim.SGD(net.parameters(), lr=0.001, momentum=0.9)"
   ]
  },
  {
   "cell_type": "code",
   "execution_count": 10,
   "metadata": {},
   "outputs": [
    {
     "name": "stdout",
     "output_type": "stream",
     "text": [
      "[1,  2000] loss: 2.225\n",
      "[1,  4000] loss: 1.925\n",
      "[1,  6000] loss: 1.732\n",
      "[1,  8000] loss: 1.616\n",
      "[1, 10000] loss: 1.565\n",
      "[1, 12000] loss: 1.494\n",
      "[2,  2000] loss: 1.444\n",
      "[2,  4000] loss: 1.423\n",
      "[2,  6000] loss: 1.372\n",
      "[2,  8000] loss: 1.342\n",
      "[2, 10000] loss: 1.367\n",
      "[2, 12000] loss: 1.325\n",
      "[3,  2000] loss: 1.267\n",
      "[3,  4000] loss: 1.246\n",
      "[3,  6000] loss: 1.246\n",
      "[3,  8000] loss: 1.246\n",
      "[3, 10000] loss: 1.240\n",
      "[3, 12000] loss: 1.227\n",
      "[4,  2000] loss: 1.131\n",
      "[4,  4000] loss: 1.161\n",
      "[4,  6000] loss: 1.162\n",
      "[4,  8000] loss: 1.150\n",
      "[4, 10000] loss: 1.137\n",
      "[4, 12000] loss: 1.137\n",
      "[5,  2000] loss: 1.062\n",
      "[5,  4000] loss: 1.082\n",
      "[5,  6000] loss: 1.066\n",
      "[5,  8000] loss: 1.064\n",
      "[5, 10000] loss: 1.069\n",
      "[5, 12000] loss: 1.064\n",
      "[6,  2000] loss: 0.979\n",
      "[6,  4000] loss: 0.998\n",
      "[6,  6000] loss: 1.008\n",
      "[6,  8000] loss: 1.020\n",
      "[6, 10000] loss: 1.007\n",
      "[6, 12000] loss: 1.021\n",
      "[7,  2000] loss: 0.929\n",
      "[7,  4000] loss: 0.935\n",
      "[7,  6000] loss: 0.952\n",
      "[7,  8000] loss: 0.958\n",
      "[7, 10000] loss: 0.977\n",
      "[7, 12000] loss: 0.987\n",
      "[8,  2000] loss: 0.878\n",
      "[8,  4000] loss: 0.889\n",
      "[8,  6000] loss: 0.903\n",
      "[8,  8000] loss: 0.919\n",
      "[8, 10000] loss: 0.925\n",
      "[8, 12000] loss: 0.955\n",
      "[9,  2000] loss: 0.844\n",
      "[9,  4000] loss: 0.845\n",
      "[9,  6000] loss: 0.870\n",
      "[9,  8000] loss: 0.883\n",
      "[9, 10000] loss: 0.901\n",
      "[9, 12000] loss: 0.913\n",
      "[10,  2000] loss: 0.777\n",
      "[10,  4000] loss: 0.824\n",
      "[10,  6000] loss: 0.836\n",
      "[10,  8000] loss: 0.860\n",
      "[10, 10000] loss: 0.878\n",
      "[10, 12000] loss: 0.876\n",
      "Finished Training\n"
     ]
    }
   ],
   "source": [
    "for epoch in range(10):  # loop over the dataset multiple times\n",
    "\n",
    "    running_loss = 0.0\n",
    "    for i, data in enumerate(trainloader, 0):\n",
    "        # get the inputs; data is a list of [inputs, labels]\n",
    "        inputs, labels = data\n",
    "\n",
    "        # zero the parameter gradients\n",
    "        optimizer.zero_grad()\n",
    "\n",
    "        # forward + backward + optimize\n",
    "        outputs = net(inputs)\n",
    "        loss = criterion(outputs, labels)\n",
    "        loss.backward()\n",
    "        optimizer.step()\n",
    "\n",
    "        # print statistics\n",
    "        running_loss += loss.item()\n",
    "        if i % 2000 == 1999:    # print every 2000 mini-batches\n",
    "            print(f'[{epoch + 1}, {i + 1:5d}] loss: {running_loss / 2000:.3f}')\n",
    "            running_loss = 0.0\n",
    "\n",
    "print('Finished Training')"
   ]
  },
  {
   "cell_type": "markdown",
   "metadata": {},
   "source": [
    "(a)"
   ]
  },
  {
   "cell_type": "code",
   "execution_count": 33,
   "metadata": {},
   "outputs": [],
   "source": [
    "class CNN(nn.Module):\n",
    "    def __init__(self,num):\n",
    "        super().__init__()\n",
    "        self.num = num\n",
    "        self.layers=[]\n",
    "        self.f1 = nn.Linear(3072,512)\n",
    "        for i in range(self.num):\n",
    "            self.layers.append(nn.Linear(512,512))\n",
    "        self.f2 = nn.Linear(512,10)\n",
    "        \n",
    "    def forward(self, x):\n",
    "        x = x.view(-1,3072) \n",
    "        x = F.relu(self.f1(x))\n",
    "        for i in range(self.num):\n",
    "            x = F.relu(self.layers[i](x))\n",
    "        x = F.dropout(x,p=0.5) \n",
    "        x = self.f2(x)\n",
    "        return x "
   ]
  },
  {
   "cell_type": "code",
   "execution_count": 55,
   "metadata": {},
   "outputs": [],
   "source": [
    "def model(model,trainloader,testloader,iteration=10):\n",
    "    train_pred=[]\n",
    "    test_pred=\n",
    "    \n",
    "    for epoch in range(10):  \n",
    "        running_loss = 0.0\n",
    "        for i, data in enumerate(trainloader, 0):\n",
    "            \n",
    "            inputs, labels = data\n",
    "\n",
    "       \n",
    "            optimizer.zero_grad()\n",
    "\n",
    "          \n",
    "            outputs = model(inputs)\n",
    "            loss = criterion(outputs, labels)\n",
    "            loss.backward()\n",
    "            optimizer.step()        \n",
    "\n",
    "      \n",
    "            running_loss += loss.item()\n",
    "          \n",
    "       \n",
    "\n",
    "    print('Finished Training')\n",
    "    return model,train_pred,test_pred"
   ]
  },
  {
   "cell_type": "code",
   "execution_count": 38,
   "metadata": {},
   "outputs": [
    {
     "name": "stdout",
     "output_type": "stream",
     "text": [
      "Accuracy is: 37 %\n",
      "Accuracy is: 37 %\n",
      "Accuracy is: 42 %\n",
      "Accuracy is: 39 %\n",
      "Accuracy is: 42 %\n",
      "Accuracy is: 40 %\n",
      "Accuracy is: 42 %\n",
      "Accuracy is: 40 %\n",
      "Accuracy is: 43 %\n",
      "Accuracy is: 39 %\n",
      "Accuracy is: 45 %\n",
      "Accuracy is: 42 %\n",
      "Accuracy is: 44 %\n",
      "Accuracy is: 41 %\n",
      "Accuracy is: 46 %\n",
      "Accuracy is: 43 %\n",
      "Accuracy is: 46 %\n",
      "Accuracy is: 41 %\n",
      "Accuracy is: 47 %\n",
      "Accuracy is: 42 %\n",
      "Finished Training\n"
     ]
    }
   ],
   "source": [
    "cnn_0 = CNN(0)\n",
    "cnn_0_trained, train_pred_cnn_0, test_pred_cnn_0 = train_model(cnn_0,trainloader,testloader,10)"
   ]
  },
  {
   "cell_type": "code",
   "execution_count": 39,
   "metadata": {},
   "outputs": [
    {
     "name": "stdout",
     "output_type": "stream",
     "text": [
      "Accuracy is: 43 %\n",
      "Accuracy is: 43 %\n",
      "Accuracy is: 47 %\n",
      "Accuracy is: 45 %\n",
      "Accuracy is: 49 %\n",
      "Accuracy is: 46 %\n",
      "Accuracy is: 52 %\n",
      "Accuracy is: 47 %\n",
      "Accuracy is: 52 %\n",
      "Accuracy is: 47 %\n",
      "Accuracy is: 54 %\n",
      "Accuracy is: 48 %\n",
      "Accuracy is: 55 %\n",
      "Accuracy is: 48 %\n",
      "Accuracy is: 55 %\n",
      "Accuracy is: 48 %\n",
      "Accuracy is: 56 %\n",
      "Accuracy is: 48 %\n",
      "Accuracy is: 57 %\n",
      "Accuracy is: 49 %\n",
      "Finished Training\n"
     ]
    }
   ],
   "source": [
    "cnn_1 = CNN(1)\n",
    "cnn_1_trained, train_pred_cnn_1, test_pred_cnn_1 = train_model(cnn_1,trainloader,testloader,10)"
   ]
  },
  {
   "cell_type": "code",
   "execution_count": 40,
   "metadata": {},
   "outputs": [
    {
     "name": "stdout",
     "output_type": "stream",
     "text": [
      "Accuracy is: 43 %\n",
      "Accuracy is: 42 %\n",
      "Accuracy is: 46 %\n",
      "Accuracy is: 45 %\n",
      "Accuracy is: 50 %\n",
      "Accuracy is: 46 %\n",
      "Accuracy is: 52 %\n",
      "Accuracy is: 48 %\n",
      "Accuracy is: 53 %\n",
      "Accuracy is: 49 %\n",
      "Accuracy is: 54 %\n",
      "Accuracy is: 49 %\n",
      "Accuracy is: 55 %\n",
      "Accuracy is: 49 %\n",
      "Accuracy is: 57 %\n",
      "Accuracy is: 50 %\n",
      "Accuracy is: 58 %\n",
      "Accuracy is: 50 %\n",
      "Accuracy is: 59 %\n",
      "Accuracy is: 49 %\n",
      "Finished Training\n"
     ]
    }
   ],
   "source": [
    "cnn_2 = CNN(2)\n",
    "cnn_2_trained, train_pred_cnn_2, test_pred_cnn_2 = train_model(cnn_2,trainloader,testloader,10)"
   ]
  },
  {
   "cell_type": "code",
   "execution_count": 41,
   "metadata": {},
   "outputs": [
    {
     "name": "stdout",
     "output_type": "stream",
     "text": [
      "Accuracy is: 36 %\n",
      "Accuracy is: 37 %\n",
      "Accuracy is: 42 %\n",
      "Accuracy is: 42 %\n",
      "Accuracy is: 46 %\n",
      "Accuracy is: 44 %\n",
      "Accuracy is: 48 %\n",
      "Accuracy is: 46 %\n",
      "Accuracy is: 50 %\n",
      "Accuracy is: 47 %\n",
      "Accuracy is: 52 %\n",
      "Accuracy is: 48 %\n",
      "Accuracy is: 53 %\n",
      "Accuracy is: 48 %\n",
      "Accuracy is: 55 %\n",
      "Accuracy is: 49 %\n",
      "Accuracy is: 56 %\n",
      "Accuracy is: 49 %\n",
      "Accuracy is: 56 %\n",
      "Accuracy is: 49 %\n",
      "Finished Training\n"
     ]
    }
   ],
   "source": [
    "cnn_3 = CNN(3)\n",
    "cnn_3_trained, train_pred_cnn_3, test_pred_cnn_3 = train_model(cnn_3,trainloader,testloader,10)"
   ]
  },
  {
   "cell_type": "code",
   "execution_count": 42,
   "metadata": {},
   "outputs": [
    {
     "name": "stdout",
     "output_type": "stream",
     "text": [
      "Accuracy is: 27 %\n",
      "Accuracy is: 27 %\n",
      "Accuracy is: 34 %\n",
      "Accuracy is: 34 %\n",
      "Accuracy is: 38 %\n",
      "Accuracy is: 38 %\n",
      "Accuracy is: 41 %\n",
      "Accuracy is: 41 %\n",
      "Accuracy is: 43 %\n",
      "Accuracy is: 43 %\n",
      "Accuracy is: 45 %\n",
      "Accuracy is: 44 %\n",
      "Accuracy is: 47 %\n",
      "Accuracy is: 45 %\n",
      "Accuracy is: 48 %\n",
      "Accuracy is: 46 %\n",
      "Accuracy is: 50 %\n",
      "Accuracy is: 47 %\n",
      "Accuracy is: 51 %\n",
      "Accuracy is: 47 %\n",
      "Finished Training\n"
     ]
    }
   ],
   "source": [
    "cnn_4 = CNN(4)\n",
    "cnn_4_trained, train_pred_cnn_4, test_pred_cnn_4 = train_model(cnn_4,trainloader,testloader,10)"
   ]
  },
  {
   "cell_type": "code",
   "execution_count": 45,
   "metadata": {},
   "outputs": [
    {
     "name": "stdout",
     "output_type": "stream",
     "text": [
      "Accuracy is: 75 %\n",
      "Accuracy is: 62 %\n",
      "Accuracy is: 74 %\n",
      "Accuracy is: 61 %\n",
      "Accuracy is: 74 %\n",
      "Accuracy is: 61 %\n",
      "Accuracy is: 76 %\n",
      "Accuracy is: 62 %\n",
      "Accuracy is: 76 %\n",
      "Accuracy is: 61 %\n",
      "Accuracy is: 71 %\n",
      "Accuracy is: 58 %\n",
      "Accuracy is: 79 %\n",
      "Accuracy is: 63 %\n",
      "Accuracy is: 76 %\n",
      "Accuracy is: 60 %\n",
      "Accuracy is: 78 %\n",
      "Accuracy is: 61 %\n",
      "Accuracy is: 79 %\n",
      "Accuracy is: 61 %\n",
      "Finished Training\n"
     ]
    }
   ],
   "source": [
    "net_trained, train_pred_net, test_pred_net = train_model(net,trainloader,testloader,10)"
   ]
  },
  {
   "cell_type": "code",
   "execution_count": 47,
   "metadata": {},
   "outputs": [
    {
     "data": {
      "image/png": "[encoded data removed]",
      "text/plain": [
       "<Figure size 432x288 with 1 Axes>"
      ]
     },
     "metadata": {
      "needs_background": "light"
     },
     "output_type": "display_data"
    }
   ],
   "source": [
    "x=[0,1,2,3,4,5,6,7,8,9]\n",
    "plt.plot(x, test_pred_net, label=f\"CNN\")\n",
    "plt.plot(x, test_pred_cnn_4,label=f\"hidden 4\")\n",
    "plt.plot(x, test_pred_cnn_3,label=f\"hidden 3\")\n",
    "plt.plot(x, test_pred_cnn_2,label=f\"hidden 2\")\n",
    "plt.plot(x, test_pred_cnn_1,label=f\"hidden 1\")\n",
    "plt.plot(x, test_pred_cnn_0,label=f\"hidden 0\")\n",
    "plt.title('validation accuracy')\n",
    "plt.ylabel('accuracy')\n",
    "leg = plt.legend(loc='upper center', ncol=2, shadow=True, fancybox=True, bbox_to_anchor=(0.5, -0.05))\n",
    "leg.get_frame().set_alpha(0.5)\n",
    "plt.show()"
   ]
  },
  {
   "cell_type": "markdown",
   "metadata": {},
   "source": [
    "We can see that the convolutional neural network is better than the other simple dense neural networks.\n",
    "When the number of hidden layer increase, the performance decrease. \n",
    "Because the optimization is more difficult, the optimizer fails to find the best weights, the accuracy of neural networks are around 40% for the 10 epochs. Hence,the CNN is much better."
   ]
  },
  {
   "cell_type": "markdown",
   "metadata": {},
   "source": [
    "(b)"
   ]
  },
  {
   "cell_type": "code",
   "execution_count": null,
   "metadata": {},
   "outputs": [],
   "source": []
  },
  {
   "cell_type": "code",
   "execution_count": null,
   "metadata": {},
   "outputs": [],
   "source": []
  }
 ],
 "metadata": {
  "kernelspec": {
   "display_name": "Python 3",
   "language": "python",
   "name": "python3"
  },
  "language_info": {
   "codemirror_mode": {
    "name": "ipython",
    "version": 3
   },
   "file_extension": ".py",
   "mimetype": "text/x-python",
   "name": "python",
   "nbconvert_exporter": "python",
   "pygments_lexer": "ipython3",
   "version": "3.8.5"
  }
 },
 "nbformat": 4,
 "nbformat_minor": 4
}
